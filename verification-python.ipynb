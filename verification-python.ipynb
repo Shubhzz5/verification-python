{
  "nbformat": 4,
  "nbformat_minor": 0,
  "metadata": {
    "colab": {
      "provenance": []
    },
    "kernelspec": {
      "name": "python3",
      "display_name": "Python 3"
    },
    "language_info": {
      "name": "python"
    }
  },
  "cells": [
    {
      "cell_type": "code",
      "metadata": {
        "colab": {
          "base_uri": "https://localhost:8080/"
        },
        "id": "rIHBg9oRVhRw",
        "outputId": "302c9c93-7ae9-4f44-bfaa-da0b1f804045"
      },
      "source": [
        "pip install twilio"
      ],
      "execution_count": null,
      "outputs": [
        {
          "output_type": "stream",
          "name": "stdout",
          "text": [
            "Collecting twilio\n",
            "  Downloading twilio-7.3.1-py2.py3-none-any.whl (1.3 MB)\n",
            "\u001b[?25l\r\u001b[K     |▎                               | 10 kB 40.5 MB/s eta 0:00:01\r\u001b[K     |▌                               | 20 kB 41.4 MB/s eta 0:00:01\r\u001b[K     |▊                               | 30 kB 23.9 MB/s eta 0:00:01\r\u001b[K     |█                               | 40 kB 18.6 MB/s eta 0:00:01\r\u001b[K     |█▎                              | 51 kB 8.0 MB/s eta 0:00:01\r\u001b[K     |█▌                              | 61 kB 8.7 MB/s eta 0:00:01\r\u001b[K     |█▊                              | 71 kB 7.4 MB/s eta 0:00:01\r\u001b[K     |██                              | 81 kB 8.4 MB/s eta 0:00:01\r\u001b[K     |██▎                             | 92 kB 6.8 MB/s eta 0:00:01\r\u001b[K     |██▌                             | 102 kB 7.5 MB/s eta 0:00:01\r\u001b[K     |██▊                             | 112 kB 7.5 MB/s eta 0:00:01\r\u001b[K     |███                             | 122 kB 7.5 MB/s eta 0:00:01\r\u001b[K     |███▎                            | 133 kB 7.5 MB/s eta 0:00:01\r\u001b[K     |███▌                            | 143 kB 7.5 MB/s eta 0:00:01\r\u001b[K     |███▊                            | 153 kB 7.5 MB/s eta 0:00:01\r\u001b[K     |████                            | 163 kB 7.5 MB/s eta 0:00:01\r\u001b[K     |████▏                           | 174 kB 7.5 MB/s eta 0:00:01\r\u001b[K     |████▌                           | 184 kB 7.5 MB/s eta 0:00:01\r\u001b[K     |████▊                           | 194 kB 7.5 MB/s eta 0:00:01\r\u001b[K     |█████                           | 204 kB 7.5 MB/s eta 0:00:01\r\u001b[K     |█████▏                          | 215 kB 7.5 MB/s eta 0:00:01\r\u001b[K     |█████▌                          | 225 kB 7.5 MB/s eta 0:00:01\r\u001b[K     |█████▊                          | 235 kB 7.5 MB/s eta 0:00:01\r\u001b[K     |██████                          | 245 kB 7.5 MB/s eta 0:00:01\r\u001b[K     |██████▏                         | 256 kB 7.5 MB/s eta 0:00:01\r\u001b[K     |██████▌                         | 266 kB 7.5 MB/s eta 0:00:01\r\u001b[K     |██████▊                         | 276 kB 7.5 MB/s eta 0:00:01\r\u001b[K     |███████                         | 286 kB 7.5 MB/s eta 0:00:01\r\u001b[K     |███████▏                        | 296 kB 7.5 MB/s eta 0:00:01\r\u001b[K     |███████▌                        | 307 kB 7.5 MB/s eta 0:00:01\r\u001b[K     |███████▊                        | 317 kB 7.5 MB/s eta 0:00:01\r\u001b[K     |████████                        | 327 kB 7.5 MB/s eta 0:00:01\r\u001b[K     |████████▏                       | 337 kB 7.5 MB/s eta 0:00:01\r\u001b[K     |████████▍                       | 348 kB 7.5 MB/s eta 0:00:01\r\u001b[K     |████████▊                       | 358 kB 7.5 MB/s eta 0:00:01\r\u001b[K     |█████████                       | 368 kB 7.5 MB/s eta 0:00:01\r\u001b[K     |█████████▏                      | 378 kB 7.5 MB/s eta 0:00:01\r\u001b[K     |█████████▍                      | 389 kB 7.5 MB/s eta 0:00:01\r\u001b[K     |█████████▊                      | 399 kB 7.5 MB/s eta 0:00:01\r\u001b[K     |██████████                      | 409 kB 7.5 MB/s eta 0:00:01\r\u001b[K     |██████████▏                     | 419 kB 7.5 MB/s eta 0:00:01\r\u001b[K     |██████████▍                     | 430 kB 7.5 MB/s eta 0:00:01\r\u001b[K     |██████████▊                     | 440 kB 7.5 MB/s eta 0:00:01\r\u001b[K     |███████████                     | 450 kB 7.5 MB/s eta 0:00:01\r\u001b[K     |███████████▏                    | 460 kB 7.5 MB/s eta 0:00:01\r\u001b[K     |███████████▍                    | 471 kB 7.5 MB/s eta 0:00:01\r\u001b[K     |███████████▋                    | 481 kB 7.5 MB/s eta 0:00:01\r\u001b[K     |████████████                    | 491 kB 7.5 MB/s eta 0:00:01\r\u001b[K     |████████████▏                   | 501 kB 7.5 MB/s eta 0:00:01\r\u001b[K     |████████████▍                   | 512 kB 7.5 MB/s eta 0:00:01\r\u001b[K     |████████████▋                   | 522 kB 7.5 MB/s eta 0:00:01\r\u001b[K     |█████████████                   | 532 kB 7.5 MB/s eta 0:00:01\r\u001b[K     |█████████████▏                  | 542 kB 7.5 MB/s eta 0:00:01\r\u001b[K     |█████████████▍                  | 552 kB 7.5 MB/s eta 0:00:01\r\u001b[K     |█████████████▋                  | 563 kB 7.5 MB/s eta 0:00:01\r\u001b[K     |██████████████                  | 573 kB 7.5 MB/s eta 0:00:01\r\u001b[K     |██████████████▏                 | 583 kB 7.5 MB/s eta 0:00:01\r\u001b[K     |██████████████▍                 | 593 kB 7.5 MB/s eta 0:00:01\r\u001b[K     |██████████████▋                 | 604 kB 7.5 MB/s eta 0:00:01\r\u001b[K     |███████████████                 | 614 kB 7.5 MB/s eta 0:00:01\r\u001b[K     |███████████████▏                | 624 kB 7.5 MB/s eta 0:00:01\r\u001b[K     |███████████████▍                | 634 kB 7.5 MB/s eta 0:00:01\r\u001b[K     |███████████████▋                | 645 kB 7.5 MB/s eta 0:00:01\r\u001b[K     |███████████████▉                | 655 kB 7.5 MB/s eta 0:00:01\r\u001b[K     |████████████████▏               | 665 kB 7.5 MB/s eta 0:00:01\r\u001b[K     |████████████████▍               | 675 kB 7.5 MB/s eta 0:00:01\r\u001b[K     |████████████████▋               | 686 kB 7.5 MB/s eta 0:00:01\r\u001b[K     |████████████████▉               | 696 kB 7.5 MB/s eta 0:00:01\r\u001b[K     |█████████████████▏              | 706 kB 7.5 MB/s eta 0:00:01\r\u001b[K     |█████████████████▍              | 716 kB 7.5 MB/s eta 0:00:01\r\u001b[K     |█████████████████▋              | 727 kB 7.5 MB/s eta 0:00:01\r\u001b[K     |█████████████████▉              | 737 kB 7.5 MB/s eta 0:00:01\r\u001b[K     |██████████████████▏             | 747 kB 7.5 MB/s eta 0:00:01\r\u001b[K     |██████████████████▍             | 757 kB 7.5 MB/s eta 0:00:01\r\u001b[K     |██████████████████▋             | 768 kB 7.5 MB/s eta 0:00:01\r\u001b[K     |██████████████████▉             | 778 kB 7.5 MB/s eta 0:00:01\r\u001b[K     |███████████████████             | 788 kB 7.5 MB/s eta 0:00:01\r\u001b[K     |███████████████████▍            | 798 kB 7.5 MB/s eta 0:00:01\r\u001b[K     |███████████████████▋            | 808 kB 7.5 MB/s eta 0:00:01\r\u001b[K     |███████████████████▉            | 819 kB 7.5 MB/s eta 0:00:01\r\u001b[K     |████████████████████            | 829 kB 7.5 MB/s eta 0:00:01\r\u001b[K     |████████████████████▍           | 839 kB 7.5 MB/s eta 0:00:01\r\u001b[K     |████████████████████▋           | 849 kB 7.5 MB/s eta 0:00:01\r\u001b[K     |████████████████████▉           | 860 kB 7.5 MB/s eta 0:00:01\r\u001b[K     |█████████████████████           | 870 kB 7.5 MB/s eta 0:00:01\r\u001b[K     |█████████████████████▍          | 880 kB 7.5 MB/s eta 0:00:01\r\u001b[K     |█████████████████████▋          | 890 kB 7.5 MB/s eta 0:00:01\r\u001b[K     |█████████████████████▉          | 901 kB 7.5 MB/s eta 0:00:01\r\u001b[K     |██████████████████████          | 911 kB 7.5 MB/s eta 0:00:01\r\u001b[K     |██████████████████████▍         | 921 kB 7.5 MB/s eta 0:00:01\r\u001b[K     |██████████████████████▋         | 931 kB 7.5 MB/s eta 0:00:01\r\u001b[K     |██████████████████████▉         | 942 kB 7.5 MB/s eta 0:00:01\r\u001b[K     |███████████████████████         | 952 kB 7.5 MB/s eta 0:00:01\r\u001b[K     |███████████████████████▎        | 962 kB 7.5 MB/s eta 0:00:01\r\u001b[K     |███████████████████████▋        | 972 kB 7.5 MB/s eta 0:00:01\r\u001b[K     |███████████████████████▉        | 983 kB 7.5 MB/s eta 0:00:01\r\u001b[K     |████████████████████████        | 993 kB 7.5 MB/s eta 0:00:01\r\u001b[K     |████████████████████████▎       | 1.0 MB 7.5 MB/s eta 0:00:01\r\u001b[K     |████████████████████████▋       | 1.0 MB 7.5 MB/s eta 0:00:01\r\u001b[K     |████████████████████████▉       | 1.0 MB 7.5 MB/s eta 0:00:01\r\u001b[K     |█████████████████████████       | 1.0 MB 7.5 MB/s eta 0:00:01\r\u001b[K     |█████████████████████████▎      | 1.0 MB 7.5 MB/s eta 0:00:01\r\u001b[K     |█████████████████████████▋      | 1.1 MB 7.5 MB/s eta 0:00:01\r\u001b[K     |█████████████████████████▉      | 1.1 MB 7.5 MB/s eta 0:00:01\r\u001b[K     |██████████████████████████      | 1.1 MB 7.5 MB/s eta 0:00:01\r\u001b[K     |██████████████████████████▎     | 1.1 MB 7.5 MB/s eta 0:00:01\r\u001b[K     |██████████████████████████▌     | 1.1 MB 7.5 MB/s eta 0:00:01\r\u001b[K     |██████████████████████████▉     | 1.1 MB 7.5 MB/s eta 0:00:01\r\u001b[K     |███████████████████████████     | 1.1 MB 7.5 MB/s eta 0:00:01\r\u001b[K     |███████████████████████████▎    | 1.1 MB 7.5 MB/s eta 0:00:01\r\u001b[K     |███████████████████████████▌    | 1.1 MB 7.5 MB/s eta 0:00:01\r\u001b[K     |███████████████████████████▉    | 1.1 MB 7.5 MB/s eta 0:00:01\r\u001b[K     |████████████████████████████    | 1.2 MB 7.5 MB/s eta 0:00:01\r\u001b[K     |████████████████████████████▎   | 1.2 MB 7.5 MB/s eta 0:00:01\r\u001b[K     |████████████████████████████▌   | 1.2 MB 7.5 MB/s eta 0:00:01\r\u001b[K     |████████████████████████████▉   | 1.2 MB 7.5 MB/s eta 0:00:01\r\u001b[K     |█████████████████████████████   | 1.2 MB 7.5 MB/s eta 0:00:01\r\u001b[K     |█████████████████████████████▎  | 1.2 MB 7.5 MB/s eta 0:00:01\r\u001b[K     |█████████████████████████████▌  | 1.2 MB 7.5 MB/s eta 0:00:01\r\u001b[K     |█████████████████████████████▉  | 1.2 MB 7.5 MB/s eta 0:00:01\r\u001b[K     |██████████████████████████████  | 1.2 MB 7.5 MB/s eta 0:00:01\r\u001b[K     |██████████████████████████████▎ | 1.2 MB 7.5 MB/s eta 0:00:01\r\u001b[K     |██████████████████████████████▌ | 1.3 MB 7.5 MB/s eta 0:00:01\r\u001b[K     |██████████████████████████████▊ | 1.3 MB 7.5 MB/s eta 0:00:01\r\u001b[K     |███████████████████████████████ | 1.3 MB 7.5 MB/s eta 0:00:01\r\u001b[K     |███████████████████████████████▎| 1.3 MB 7.5 MB/s eta 0:00:01\r\u001b[K     |███████████████████████████████▌| 1.3 MB 7.5 MB/s eta 0:00:01\r\u001b[K     |███████████████████████████████▊| 1.3 MB 7.5 MB/s eta 0:00:01\r\u001b[K     |████████████████████████████████| 1.3 MB 7.5 MB/s \n",
            "\u001b[?25hCollecting PyJWT<3.0.0,>=2.0.0\n",
            "  Downloading PyJWT-2.3.0-py3-none-any.whl (16 kB)\n",
            "Requirement already satisfied: pytz in /usr/local/lib/python3.7/dist-packages (from twilio) (2018.9)\n",
            "Requirement already satisfied: requests>=2.0.0 in /usr/local/lib/python3.7/dist-packages (from twilio) (2.23.0)\n",
            "Requirement already satisfied: certifi>=2017.4.17 in /usr/local/lib/python3.7/dist-packages (from requests>=2.0.0->twilio) (2021.10.8)\n",
            "Requirement already satisfied: urllib3!=1.25.0,!=1.25.1,<1.26,>=1.21.1 in /usr/local/lib/python3.7/dist-packages (from requests>=2.0.0->twilio) (1.24.3)\n",
            "Requirement already satisfied: idna<3,>=2.5 in /usr/local/lib/python3.7/dist-packages (from requests>=2.0.0->twilio) (2.10)\n",
            "Requirement already satisfied: chardet<4,>=3.0.2 in /usr/local/lib/python3.7/dist-packages (from requests>=2.0.0->twilio) (3.0.4)\n",
            "Installing collected packages: PyJWT, twilio\n",
            "Successfully installed PyJWT-2.3.0 twilio-7.3.1\n"
          ]
        }
      ]
    },
    {
      "cell_type": "code",
      "metadata": {
        "colab": {
          "base_uri": "https://localhost:8080/"
        },
        "id": "bUoD2BILVa8b",
        "outputId": "2bb5c9e0-025b-46fb-a0d4-6f42edc99b1a"
      },
      "source": [
        "import os\n",
        "import math\n",
        "import random\n",
        "import smtplib\n",
        "from twilio.rest import Client\n",
        "\n",
        "digits=\"0123456789\"\n",
        "OTP=\"\"\n",
        "for i in range(6):\n",
        "    OTP+=digits[math.floor(random.random()*10)]\n",
        "otp = OTP + \" is your One Time Password\\nPlease Do not share with any one!\"\n",
        "msg= otp\n",
        "\n",
        "s = smtplib.SMTP('smtp.gmail.com', 587)\n",
        "s.starttls()\n",
        "s.login(\"shubhamlingayat55@gmail.com\", \"sieirgniyexhyjeu\")\n",
        "emailid = input(\"Enter your email: \")\n",
        "s.sendmail('&&&&&&&&&&&',emailid,msg)\n",
        "\n",
        "a = input(\"Enter Your OTP >>: \")\n",
        "if a == OTP:\n",
        "    print(\"Verified\")\n",
        "\n",
        "    digits = \"0123456789\"\n",
        "    otp1=\"\"\n",
        "    for i in range(6):\n",
        "      otp1+=digits[math.floor(random.random()*10)]\n",
        "    account_sid = \"ACa399677563aff5f0c0219d25bc63acdc\"\n",
        "    auth_token = '95916e3589f9f31451ff56f1d6f05ccd'\n",
        "    client = Client(account_sid,auth_token)\n",
        "    mobile = input(\"\\nEnter Your Mobile Number (with Country code)>>: \")\n",
        "    msg = client.messages.create(\n",
        "        body =\"\\n\\n\" otp1 + \" is Your One Time Password\\nPlease Do not share with anyone\",\n",
        "        from_ = \"+18482855490\",\n",
        "        to = mobile\n",
        "        )\n",
        "    b = input(\"Enter Your OTP >>: \")\n",
        "    if b == otp1:\n",
        "      print(\"Verified\")\n",
        "    else:\n",
        "      print(\"Wrong OTP ! Try again\")\n",
        "\n",
        "else:\n",
        "    print(\"Wrong OTP ! Try again\")"
      ],
      "execution_count": null,
      "outputs": [
        {
          "output_type": "stream",
          "name": "stdout",
          "text": [
            "Enter your email: shubhamlingayat062@gmail.com\n",
            "Enter Your OTP >>: 552095\n",
            "Verified\n",
            "\n",
            "Enter Your Mobile Number (with Country code)>>: +919823960449\n",
            "Enter Your OTP >>: 273854\n",
            "Verified\n"
          ]
        }
      ]
    }
  ]
}